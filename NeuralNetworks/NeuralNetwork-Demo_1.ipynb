{
 "cells": [
  {
   "cell_type": "code",
   "execution_count": 2,
   "id": "6ac75f47",
   "metadata": {},
   "outputs": [],
   "source": [
    "#Import Libraries\n",
    "\n",
    "import numpy as np\n",
    "import pandas as pd\n",
    "import matplotlib.pyplot as plt\n",
    "import seaborn as sn"
   ]
  },
  {
   "cell_type": "markdown",
   "id": "804a703b",
   "metadata": {},
   "source": [
    "### Neural Network Libraries"
   ]
  },
  {
   "cell_type": "markdown",
   "id": "ff7ae04c",
   "metadata": {},
   "source": [
    "TensorFlow is a Python-based, free, open source machine learning platform, developed primarily by Google.\n",
    "\n",
    "Keras is a deep learning API for Python, built on top of TensorFlow, that provides a convenient way to define and train any kind of deep learning model.\n",
    "\n",
    "Installing Tensorflow library:\n",
    "\n",
    "Anaconda Prompt (Run as Administrator)> pip install tensorflow"
   ]
  },
  {
   "cell_type": "code",
   "execution_count": 3,
   "id": "8ef30221",
   "metadata": {},
   "outputs": [],
   "source": [
    "import tensorflow as tf\n",
    "from tensorflow import keras"
   ]
  },
  {
   "cell_type": "markdown",
   "id": "e3a552c8",
   "metadata": {},
   "source": [
    "# Load MNIST Data"
   ]
  },
  {
   "cell_type": "markdown",
   "id": "ff201b26",
   "metadata": {},
   "source": [
    "The MNIST dataset consists of 70,000 28x28 images of handwritten digits extracted from two NIST databases.\n",
    "\n",
    "The MNIST dataset consists of 70,000 28x28 black-and-white images of handwritten digits extracted from two NIST databases. There are 60,000 images in the training dataset and 10,000 images in the validation dataset, one class per digit so a total of 10 classes, with 7,000 images (6,000 train images and 1,000 test images) per class. Half of the image were drawn by Census Bureau employees and the other half by high school students (this split is evenly distributed in the training and testing sets).\n"
   ]
  },
  {
   "cell_type": "code",
   "execution_count": 4,
   "id": "e62c9c5a",
   "metadata": {},
   "outputs": [],
   "source": [
    "#load dataset\n",
    "\n",
    "(x_train, y_train), (x_test, y_test) = keras.datasets.mnist.load_data() #train-test 0.75-0.25 split"
   ]
  },
  {
   "cell_type": "markdown",
   "id": "ee2ddd1b",
   "metadata": {},
   "source": [
    "# Explore Data"
   ]
  },
  {
   "cell_type": "code",
   "execution_count": 5,
   "id": "1e19b048",
   "metadata": {},
   "outputs": [
    {
     "name": "stdout",
     "output_type": "stream",
     "text": [
      "Train: X=(60000, 28, 28), y=(60000,)\n",
      "Test: X=(10000, 28, 28), y=(10000,)\n"
     ]
    }
   ],
   "source": [
    "# summarize loaded dataset\n",
    "print('Train: X=%s, y=%s' % (x_train.shape, y_train.shape))\n",
    "print('Test: X=%s, y=%s' % (x_test.shape, y_test.shape))"
   ]
  },
  {
   "cell_type": "code",
   "execution_count": 14,
   "id": "a08c3bde",
   "metadata": {},
   "outputs": [
    {
     "data": {
      "text/plain": [
       "<matplotlib.image.AxesImage at 0x191f4729e50>"
      ]
     },
     "execution_count": 14,
     "metadata": {},
     "output_type": "execute_result"
    },
    {
     "data": {
      "image/png": "[encoded data removed]",
      "text/plain": [
       "<Figure size 480x480 with 1 Axes>"
      ]
     },
     "metadata": {},
     "output_type": "display_data"
    }
   ],
   "source": [
    "#plot image based on x_train data\n",
    "\n",
    "plt.matshow(x_train[0])\n"
   ]
  },
  {
   "cell_type": "code",
   "execution_count": 15,
   "id": "2272372a",
   "metadata": {},
   "outputs": [
    {
     "name": "stdout",
     "output_type": "stream",
     "text": [
      "5\n"
     ]
    }
   ],
   "source": [
    "#print y_train\n",
    "\n",
    "print(y_train[0])"
   ]
  },
  {
   "cell_type": "code",
   "execution_count": 16,
   "id": "bfab5696",
   "metadata": {},
   "outputs": [
    {
     "name": "stdout",
     "output_type": "stream",
     "text": [
      "(28, 28)\n",
      "[[  0   0   0   0   0   0   0   0   0   0   0   0   0   0   0   0   0   0\n",
      "    0   0   0   0   0   0   0   0   0   0]\n",
      " [  0   0   0   0   0   0   0   0   0   0   0   0   0   0   0   0   0   0\n",
      "    0   0   0   0   0   0   0   0   0   0]\n",
      " [  0   0   0   0   0   0   0   0   0   0   0   0   0   0   0   0   0   0\n",
      "    0   0   0   0   0   0   0   0   0   0]\n",
      " [  0   0   0   0   0   0   0   0   0   0   0   0   0   0   0   0   0   0\n",
      "    0   0   0   0   0   0   0   0   0   0]\n",
      " [  0   0   0   0   0   0   0   0   0   0   0   0   0   0   0   0   0   0\n",
      "    0   0   0   0   0   0   0   0   0   0]\n",
      " [  0   0   0   0   0   0   0   0   0   0   0   0   3  18  18  18 126 136\n",
      "  175  26 166 255 247 127   0   0   0   0]\n",
      " [  0   0   0   0   0   0   0   0  30  36  94 154 170 253 253 253 253 253\n",
      "  225 172 253 242 195  64   0   0   0   0]\n",
      " [  0   0   0   0   0   0   0  49 238 253 253 253 253 253 253 253 253 251\n",
      "   93  82  82  56  39   0   0   0   0   0]\n",
      " [  0   0   0   0   0   0   0  18 219 253 253 253 253 253 198 182 247 241\n",
      "    0   0   0   0   0   0   0   0   0   0]\n",
      " [  0   0   0   0   0   0   0   0  80 156 107 253 253 205  11   0  43 154\n",
      "    0   0   0   0   0   0   0   0   0   0]\n",
      " [  0   0   0   0   0   0   0   0   0  14   1 154 253  90   0   0   0   0\n",
      "    0   0   0   0   0   0   0   0   0   0]\n",
      " [  0   0   0   0   0   0   0   0   0   0   0 139 253 190   2   0   0   0\n",
      "    0   0   0   0   0   0   0   0   0   0]\n",
      " [  0   0   0   0   0   0   0   0   0   0   0  11 190 253  70   0   0   0\n",
      "    0   0   0   0   0   0   0   0   0   0]\n",
      " [  0   0   0   0   0   0   0   0   0   0   0   0  35 241 225 160 108   1\n",
      "    0   0   0   0   0   0   0   0   0   0]\n",
      " [  0   0   0   0   0   0   0   0   0   0   0   0   0  81 240 253 253 119\n",
      "   25   0   0   0   0   0   0   0   0   0]\n",
      " [  0   0   0   0   0   0   0   0   0   0   0   0   0   0  45 186 253 253\n",
      "  150  27   0   0   0   0   0   0   0   0]\n",
      " [  0   0   0   0   0   0   0   0   0   0   0   0   0   0   0  16  93 252\n",
      "  253 187   0   0   0   0   0   0   0   0]\n",
      " [  0   0   0   0   0   0   0   0   0   0   0   0   0   0   0   0   0 249\n",
      "  253 249  64   0   0   0   0   0   0   0]\n",
      " [  0   0   0   0   0   0   0   0   0   0   0   0   0   0  46 130 183 253\n",
      "  253 207   2   0   0   0   0   0   0   0]\n",
      " [  0   0   0   0   0   0   0   0   0   0   0   0  39 148 229 253 253 253\n",
      "  250 182   0   0   0   0   0   0   0   0]\n",
      " [  0   0   0   0   0   0   0   0   0   0  24 114 221 253 253 253 253 201\n",
      "   78   0   0   0   0   0   0   0   0   0]\n",
      " [  0   0   0   0   0   0   0   0  23  66 213 253 253 253 253 198  81   2\n",
      "    0   0   0   0   0   0   0   0   0   0]\n",
      " [  0   0   0   0   0   0  18 171 219 253 253 253 253 195  80   9   0   0\n",
      "    0   0   0   0   0   0   0   0   0   0]\n",
      " [  0   0   0   0  55 172 226 253 253 253 253 244 133  11   0   0   0   0\n",
      "    0   0   0   0   0   0   0   0   0   0]\n",
      " [  0   0   0   0 136 253 253 253 212 135 132  16   0   0   0   0   0   0\n",
      "    0   0   0   0   0   0   0   0   0   0]\n",
      " [  0   0   0   0   0   0   0   0   0   0   0   0   0   0   0   0   0   0\n",
      "    0   0   0   0   0   0   0   0   0   0]\n",
      " [  0   0   0   0   0   0   0   0   0   0   0   0   0   0   0   0   0   0\n",
      "    0   0   0   0   0   0   0   0   0   0]\n",
      " [  0   0   0   0   0   0   0   0   0   0   0   0   0   0   0   0   0   0\n",
      "    0   0   0   0   0   0   0   0   0   0]]\n"
     ]
    }
   ],
   "source": [
    "#print x_train\n",
    "# 28X28 grid\n",
    "\n",
    "print(x_train[0].shape)\n",
    "print(x_train[0])"
   ]
  },
  {
   "cell_type": "code",
   "execution_count": 17,
   "id": "ea8e1cb5",
   "metadata": {},
   "outputs": [
    {
     "data": {
      "image/png": "[encoded data removed]",
      "text/plain": [
       "<Figure size 640x480 with 9 Axes>"
      ]
     },
     "metadata": {},
     "output_type": "display_data"
    }
   ],
   "source": [
    "# plot first few images\n",
    "\n",
    "for i in range(9):\n",
    "    \n",
    "    # define subplot with 3 rows and 3 columns, index from 1 to 9\n",
    "    plt.subplot(3,3,i+1)\n",
    "    \n",
    "    # plot pixel data\n",
    "    plt.imshow(x_train[i])\n",
    "    \n",
    "# show the figure\n",
    "plt.show()"
   ]
  },
  {
   "cell_type": "markdown",
   "id": "555b59ab",
   "metadata": {},
   "source": [
    "# Prepare Data"
   ]
  },
  {
   "cell_type": "markdown",
   "id": "44ca183d",
   "metadata": {},
   "source": [
    "### Normalization\n",
    "Normalization is the process of scaling and centering the features of a dataset. \n",
    "The goal of normalization is to bring all features to a similar scale so that they contribute equally to the learning process and no single feature dominates due to its larger magnitude. "
   ]
  },
  {
   "cell_type": "code",
   "execution_count": 18,
   "id": "87cdbc0b",
   "metadata": {},
   "outputs": [
    {
     "name": "stdout",
     "output_type": "stream",
     "text": [
      "[[0.         0.         0.         0.         0.         0.\n",
      "  0.         0.         0.         0.         0.         0.\n",
      "  0.         0.         0.         0.         0.         0.\n",
      "  0.         0.         0.         0.         0.         0.\n",
      "  0.         0.         0.         0.        ]\n",
      " [0.         0.         0.         0.         0.         0.\n",
      "  0.         0.         0.         0.         0.         0.\n",
      "  0.         0.         0.         0.         0.         0.\n",
      "  0.         0.         0.         0.         0.         0.\n",
      "  0.         0.         0.         0.        ]\n",
      " [0.         0.         0.         0.         0.         0.\n",
      "  0.         0.         0.         0.         0.         0.\n",
      "  0.         0.         0.         0.         0.         0.\n",
      "  0.         0.         0.         0.         0.         0.\n",
      "  0.         0.         0.         0.        ]\n",
      " [0.         0.         0.         0.         0.         0.\n",
      "  0.         0.         0.         0.         0.         0.\n",
      "  0.         0.         0.         0.         0.         0.\n",
      "  0.         0.         0.         0.         0.         0.\n",
      "  0.         0.         0.         0.        ]\n",
      " [0.         0.         0.         0.         0.         0.\n",
      "  0.         0.         0.         0.         0.         0.\n",
      "  0.         0.         0.         0.         0.         0.\n",
      "  0.         0.         0.         0.         0.         0.\n",
      "  0.         0.         0.         0.        ]\n",
      " [0.         0.         0.         0.         0.         0.\n",
      "  0.         0.         0.         0.         0.         0.\n",
      "  0.01176471 0.07058824 0.07058824 0.07058824 0.49411765 0.53333333\n",
      "  0.68627451 0.10196078 0.65098039 1.         0.96862745 0.49803922\n",
      "  0.         0.         0.         0.        ]\n",
      " [0.         0.         0.         0.         0.         0.\n",
      "  0.         0.         0.11764706 0.14117647 0.36862745 0.60392157\n",
      "  0.66666667 0.99215686 0.99215686 0.99215686 0.99215686 0.99215686\n",
      "  0.88235294 0.6745098  0.99215686 0.94901961 0.76470588 0.25098039\n",
      "  0.         0.         0.         0.        ]\n",
      " [0.         0.         0.         0.         0.         0.\n",
      "  0.         0.19215686 0.93333333 0.99215686 0.99215686 0.99215686\n",
      "  0.99215686 0.99215686 0.99215686 0.99215686 0.99215686 0.98431373\n",
      "  0.36470588 0.32156863 0.32156863 0.21960784 0.15294118 0.\n",
      "  0.         0.         0.         0.        ]\n",
      " [0.         0.         0.         0.         0.         0.\n",
      "  0.         0.07058824 0.85882353 0.99215686 0.99215686 0.99215686\n",
      "  0.99215686 0.99215686 0.77647059 0.71372549 0.96862745 0.94509804\n",
      "  0.         0.         0.         0.         0.         0.\n",
      "  0.         0.         0.         0.        ]\n",
      " [0.         0.         0.         0.         0.         0.\n",
      "  0.         0.         0.31372549 0.61176471 0.41960784 0.99215686\n",
      "  0.99215686 0.80392157 0.04313725 0.         0.16862745 0.60392157\n",
      "  0.         0.         0.         0.         0.         0.\n",
      "  0.         0.         0.         0.        ]\n",
      " [0.         0.         0.         0.         0.         0.\n",
      "  0.         0.         0.         0.05490196 0.00392157 0.60392157\n",
      "  0.99215686 0.35294118 0.         0.         0.         0.\n",
      "  0.         0.         0.         0.         0.         0.\n",
      "  0.         0.         0.         0.        ]\n",
      " [0.         0.         0.         0.         0.         0.\n",
      "  0.         0.         0.         0.         0.         0.54509804\n",
      "  0.99215686 0.74509804 0.00784314 0.         0.         0.\n",
      "  0.         0.         0.         0.         0.         0.\n",
      "  0.         0.         0.         0.        ]\n",
      " [0.         0.         0.         0.         0.         0.\n",
      "  0.         0.         0.         0.         0.         0.04313725\n",
      "  0.74509804 0.99215686 0.2745098  0.         0.         0.\n",
      "  0.         0.         0.         0.         0.         0.\n",
      "  0.         0.         0.         0.        ]\n",
      " [0.         0.         0.         0.         0.         0.\n",
      "  0.         0.         0.         0.         0.         0.\n",
      "  0.1372549  0.94509804 0.88235294 0.62745098 0.42352941 0.00392157\n",
      "  0.         0.         0.         0.         0.         0.\n",
      "  0.         0.         0.         0.        ]\n",
      " [0.         0.         0.         0.         0.         0.\n",
      "  0.         0.         0.         0.         0.         0.\n",
      "  0.         0.31764706 0.94117647 0.99215686 0.99215686 0.46666667\n",
      "  0.09803922 0.         0.         0.         0.         0.\n",
      "  0.         0.         0.         0.        ]\n",
      " [0.         0.         0.         0.         0.         0.\n",
      "  0.         0.         0.         0.         0.         0.\n",
      "  0.         0.         0.17647059 0.72941176 0.99215686 0.99215686\n",
      "  0.58823529 0.10588235 0.         0.         0.         0.\n",
      "  0.         0.         0.         0.        ]\n",
      " [0.         0.         0.         0.         0.         0.\n",
      "  0.         0.         0.         0.         0.         0.\n",
      "  0.         0.         0.         0.0627451  0.36470588 0.98823529\n",
      "  0.99215686 0.73333333 0.         0.         0.         0.\n",
      "  0.         0.         0.         0.        ]\n",
      " [0.         0.         0.         0.         0.         0.\n",
      "  0.         0.         0.         0.         0.         0.\n",
      "  0.         0.         0.         0.         0.         0.97647059\n",
      "  0.99215686 0.97647059 0.25098039 0.         0.         0.\n",
      "  0.         0.         0.         0.        ]\n",
      " [0.         0.         0.         0.         0.         0.\n",
      "  0.         0.         0.         0.         0.         0.\n",
      "  0.         0.         0.18039216 0.50980392 0.71764706 0.99215686\n",
      "  0.99215686 0.81176471 0.00784314 0.         0.         0.\n",
      "  0.         0.         0.         0.        ]\n",
      " [0.         0.         0.         0.         0.         0.\n",
      "  0.         0.         0.         0.         0.         0.\n",
      "  0.15294118 0.58039216 0.89803922 0.99215686 0.99215686 0.99215686\n",
      "  0.98039216 0.71372549 0.         0.         0.         0.\n",
      "  0.         0.         0.         0.        ]\n",
      " [0.         0.         0.         0.         0.         0.\n",
      "  0.         0.         0.         0.         0.09411765 0.44705882\n",
      "  0.86666667 0.99215686 0.99215686 0.99215686 0.99215686 0.78823529\n",
      "  0.30588235 0.         0.         0.         0.         0.\n",
      "  0.         0.         0.         0.        ]\n",
      " [0.         0.         0.         0.         0.         0.\n",
      "  0.         0.         0.09019608 0.25882353 0.83529412 0.99215686\n",
      "  0.99215686 0.99215686 0.99215686 0.77647059 0.31764706 0.00784314\n",
      "  0.         0.         0.         0.         0.         0.\n",
      "  0.         0.         0.         0.        ]\n",
      " [0.         0.         0.         0.         0.         0.\n",
      "  0.07058824 0.67058824 0.85882353 0.99215686 0.99215686 0.99215686\n",
      "  0.99215686 0.76470588 0.31372549 0.03529412 0.         0.\n",
      "  0.         0.         0.         0.         0.         0.\n",
      "  0.         0.         0.         0.        ]\n",
      " [0.         0.         0.         0.         0.21568627 0.6745098\n",
      "  0.88627451 0.99215686 0.99215686 0.99215686 0.99215686 0.95686275\n",
      "  0.52156863 0.04313725 0.         0.         0.         0.\n",
      "  0.         0.         0.         0.         0.         0.\n",
      "  0.         0.         0.         0.        ]\n",
      " [0.         0.         0.         0.         0.53333333 0.99215686\n",
      "  0.99215686 0.99215686 0.83137255 0.52941176 0.51764706 0.0627451\n",
      "  0.         0.         0.         0.         0.         0.\n",
      "  0.         0.         0.         0.         0.         0.\n",
      "  0.         0.         0.         0.        ]\n",
      " [0.         0.         0.         0.         0.         0.\n",
      "  0.         0.         0.         0.         0.         0.\n",
      "  0.         0.         0.         0.         0.         0.\n",
      "  0.         0.         0.         0.         0.         0.\n",
      "  0.         0.         0.         0.        ]\n",
      " [0.         0.         0.         0.         0.         0.\n",
      "  0.         0.         0.         0.         0.         0.\n",
      "  0.         0.         0.         0.         0.         0.\n",
      "  0.         0.         0.         0.         0.         0.\n",
      "  0.         0.         0.         0.        ]\n",
      " [0.         0.         0.         0.         0.         0.\n",
      "  0.         0.         0.         0.         0.         0.\n",
      "  0.         0.         0.         0.         0.         0.\n",
      "  0.         0.         0.         0.         0.         0.\n",
      "  0.         0.         0.         0.        ]]\n"
     ]
    }
   ],
   "source": [
    "#normalize data by scaling\n",
    "#we can scale data range (0-255) scaled to 0-1, by dividing by 255\n",
    "\n",
    "x_train = x_train / 255\n",
    "x_test = x_test / 255\n",
    "\n",
    "print(x_train[0])"
   ]
  },
  {
   "cell_type": "markdown",
   "id": "71366aa9",
   "metadata": {},
   "source": [
    "# Flattening"
   ]
  },
  {
   "cell_type": "markdown",
   "id": "18168f37",
   "metadata": {},
   "source": [
    "Flattening is the process of converting multi-dimensional data, such as images or tensors, into a one-dimensional vector. \n",
    "\n",
    "This is often a necessary step when passing data to a neural network's input layer, which typically expects one-dimensional input.\n",
    "\n",
    "We are flattenning 28*28 2D input data into one dimensional data with length 784"
   ]
  },
  {
   "cell_type": "code",
   "execution_count": 19,
   "id": "5bdc922c",
   "metadata": {},
   "outputs": [
    {
     "name": "stdout",
     "output_type": "stream",
     "text": [
      "Before flattening, shape of x_train is  (60000, 28, 28)\n",
      "Before flattening, shape of each x_train data is  (28, 28)\n",
      "After flattening, shape of x_train is  (60000, 784)\n",
      "After flattening, shape of each x_train data is  (784,)\n"
     ]
    }
   ],
   "source": [
    "#flatten 28x28 grids into longitudanal input\n",
    "\n",
    "print(\"Before flattening, shape of x_train is \", x_train.shape)\n",
    "print(\"Before flattening, shape of each x_train data is \", x_train[0].shape)\n",
    "\n",
    "# input_size = 28*28= 784\n",
    "input_vector_size = 28*28\n",
    "\n",
    "x_train = x_train.reshape(len(x_train), input_vector_size)\n",
    "x_test = x_test.reshape(len(x_test), input_vector_size)\n",
    "\n",
    "print(\"After flattening, shape of x_train is \", x_train.shape)\n",
    "print(\"After flattening, shape of each x_train data is \", x_train[0].shape)"
   ]
  },
  {
   "cell_type": "code",
   "execution_count": 20,
   "id": "30f80e57",
   "metadata": {},
   "outputs": [
    {
     "name": "stdout",
     "output_type": "stream",
     "text": [
      "[0.         0.         0.         0.         0.         0.\n",
      " 0.         0.         0.         0.         0.         0.\n",
      " 0.         0.         0.         0.         0.         0.\n",
      " 0.         0.         0.         0.         0.         0.\n",
      " 0.         0.         0.         0.         0.         0.\n",
      " 0.         0.         0.         0.         0.         0.\n",
      " 0.         0.         0.         0.         0.         0.\n",
      " 0.         0.         0.         0.         0.         0.\n",
      " 0.         0.         0.         0.         0.         0.\n",
      " 0.         0.         0.         0.         0.         0.\n",
      " 0.         0.         0.         0.         0.         0.\n",
      " 0.         0.         0.         0.         0.         0.\n",
      " 0.         0.         0.         0.         0.         0.\n",
      " 0.         0.         0.         0.         0.         0.\n",
      " 0.         0.         0.         0.         0.         0.\n",
      " 0.         0.         0.         0.         0.         0.\n",
      " 0.         0.         0.         0.         0.         0.\n",
      " 0.         0.         0.         0.         0.         0.\n",
      " 0.         0.         0.         0.         0.         0.\n",
      " 0.         0.         0.         0.         0.         0.\n",
      " 0.         0.         0.         0.         0.         0.\n",
      " 0.         0.         0.         0.         0.         0.\n",
      " 0.         0.         0.         0.         0.         0.\n",
      " 0.         0.         0.         0.         0.         0.\n",
      " 0.         0.         0.         0.         0.         0.\n",
      " 0.         0.         0.01176471 0.07058824 0.07058824 0.07058824\n",
      " 0.49411765 0.53333333 0.68627451 0.10196078 0.65098039 1.\n",
      " 0.96862745 0.49803922 0.         0.         0.         0.\n",
      " 0.         0.         0.         0.         0.         0.\n",
      " 0.         0.         0.11764706 0.14117647 0.36862745 0.60392157\n",
      " 0.66666667 0.99215686 0.99215686 0.99215686 0.99215686 0.99215686\n",
      " 0.88235294 0.6745098  0.99215686 0.94901961 0.76470588 0.25098039\n",
      " 0.         0.         0.         0.         0.         0.\n",
      " 0.         0.         0.         0.         0.         0.19215686\n",
      " 0.93333333 0.99215686 0.99215686 0.99215686 0.99215686 0.99215686\n",
      " 0.99215686 0.99215686 0.99215686 0.98431373 0.36470588 0.32156863\n",
      " 0.32156863 0.21960784 0.15294118 0.         0.         0.\n",
      " 0.         0.         0.         0.         0.         0.\n",
      " 0.         0.         0.         0.07058824 0.85882353 0.99215686\n",
      " 0.99215686 0.99215686 0.99215686 0.99215686 0.77647059 0.71372549\n",
      " 0.96862745 0.94509804 0.         0.         0.         0.\n",
      " 0.         0.         0.         0.         0.         0.\n",
      " 0.         0.         0.         0.         0.         0.\n",
      " 0.         0.         0.31372549 0.61176471 0.41960784 0.99215686\n",
      " 0.99215686 0.80392157 0.04313725 0.         0.16862745 0.60392157\n",
      " 0.         0.         0.         0.         0.         0.\n",
      " 0.         0.         0.         0.         0.         0.\n",
      " 0.         0.         0.         0.         0.         0.\n",
      " 0.         0.05490196 0.00392157 0.60392157 0.99215686 0.35294118\n",
      " 0.         0.         0.         0.         0.         0.\n",
      " 0.         0.         0.         0.         0.         0.\n",
      " 0.         0.         0.         0.         0.         0.\n",
      " 0.         0.         0.         0.         0.         0.\n",
      " 0.         0.54509804 0.99215686 0.74509804 0.00784314 0.\n",
      " 0.         0.         0.         0.         0.         0.\n",
      " 0.         0.         0.         0.         0.         0.\n",
      " 0.         0.         0.         0.         0.         0.\n",
      " 0.         0.         0.         0.         0.         0.04313725\n",
      " 0.74509804 0.99215686 0.2745098  0.         0.         0.\n",
      " 0.         0.         0.         0.         0.         0.\n",
      " 0.         0.         0.         0.         0.         0.\n",
      " 0.         0.         0.         0.         0.         0.\n",
      " 0.         0.         0.         0.         0.1372549  0.94509804\n",
      " 0.88235294 0.62745098 0.42352941 0.00392157 0.         0.\n",
      " 0.         0.         0.         0.         0.         0.\n",
      " 0.         0.         0.         0.         0.         0.\n",
      " 0.         0.         0.         0.         0.         0.\n",
      " 0.         0.         0.         0.31764706 0.94117647 0.99215686\n",
      " 0.99215686 0.46666667 0.09803922 0.         0.         0.\n",
      " 0.         0.         0.         0.         0.         0.\n",
      " 0.         0.         0.         0.         0.         0.\n",
      " 0.         0.         0.         0.         0.         0.\n",
      " 0.         0.         0.17647059 0.72941176 0.99215686 0.99215686\n",
      " 0.58823529 0.10588235 0.         0.         0.         0.\n",
      " 0.         0.         0.         0.         0.         0.\n",
      " 0.         0.         0.         0.         0.         0.\n",
      " 0.         0.         0.         0.         0.         0.\n",
      " 0.         0.0627451  0.36470588 0.98823529 0.99215686 0.73333333\n",
      " 0.         0.         0.         0.         0.         0.\n",
      " 0.         0.         0.         0.         0.         0.\n",
      " 0.         0.         0.         0.         0.         0.\n",
      " 0.         0.         0.         0.         0.         0.\n",
      " 0.         0.97647059 0.99215686 0.97647059 0.25098039 0.\n",
      " 0.         0.         0.         0.         0.         0.\n",
      " 0.         0.         0.         0.         0.         0.\n",
      " 0.         0.         0.         0.         0.         0.\n",
      " 0.         0.         0.18039216 0.50980392 0.71764706 0.99215686\n",
      " 0.99215686 0.81176471 0.00784314 0.         0.         0.\n",
      " 0.         0.         0.         0.         0.         0.\n",
      " 0.         0.         0.         0.         0.         0.\n",
      " 0.         0.         0.         0.         0.15294118 0.58039216\n",
      " 0.89803922 0.99215686 0.99215686 0.99215686 0.98039216 0.71372549\n",
      " 0.         0.         0.         0.         0.         0.\n",
      " 0.         0.         0.         0.         0.         0.\n",
      " 0.         0.         0.         0.         0.         0.\n",
      " 0.09411765 0.44705882 0.86666667 0.99215686 0.99215686 0.99215686\n",
      " 0.99215686 0.78823529 0.30588235 0.         0.         0.\n",
      " 0.         0.         0.         0.         0.         0.\n",
      " 0.         0.         0.         0.         0.         0.\n",
      " 0.         0.         0.09019608 0.25882353 0.83529412 0.99215686\n",
      " 0.99215686 0.99215686 0.99215686 0.77647059 0.31764706 0.00784314\n",
      " 0.         0.         0.         0.         0.         0.\n",
      " 0.         0.         0.         0.         0.         0.\n",
      " 0.         0.         0.         0.         0.07058824 0.67058824\n",
      " 0.85882353 0.99215686 0.99215686 0.99215686 0.99215686 0.76470588\n",
      " 0.31372549 0.03529412 0.         0.         0.         0.\n",
      " 0.         0.         0.         0.         0.         0.\n",
      " 0.         0.         0.         0.         0.         0.\n",
      " 0.21568627 0.6745098  0.88627451 0.99215686 0.99215686 0.99215686\n",
      " 0.99215686 0.95686275 0.52156863 0.04313725 0.         0.\n",
      " 0.         0.         0.         0.         0.         0.\n",
      " 0.         0.         0.         0.         0.         0.\n",
      " 0.         0.         0.         0.         0.53333333 0.99215686\n",
      " 0.99215686 0.99215686 0.83137255 0.52941176 0.51764706 0.0627451\n",
      " 0.         0.         0.         0.         0.         0.\n",
      " 0.         0.         0.         0.         0.         0.\n",
      " 0.         0.         0.         0.         0.         0.\n",
      " 0.         0.         0.         0.         0.         0.\n",
      " 0.         0.         0.         0.         0.         0.\n",
      " 0.         0.         0.         0.         0.         0.\n",
      " 0.         0.         0.         0.         0.         0.\n",
      " 0.         0.         0.         0.         0.         0.\n",
      " 0.         0.         0.         0.         0.         0.\n",
      " 0.         0.         0.         0.         0.         0.\n",
      " 0.         0.         0.         0.         0.         0.\n",
      " 0.         0.         0.         0.         0.         0.\n",
      " 0.         0.         0.         0.         0.         0.\n",
      " 0.         0.         0.         0.         0.         0.\n",
      " 0.         0.         0.         0.         0.         0.\n",
      " 0.         0.         0.         0.         0.         0.\n",
      " 0.         0.         0.         0.        ]\n"
     ]
    }
   ],
   "source": [
    "print (x_train[0])"
   ]
  },
  {
   "cell_type": "markdown",
   "id": "121c6329",
   "metadata": {},
   "source": [
    "# Define Neural Network Model Architecture"
   ]
  },
  {
   "cell_type": "markdown",
   "id": "0b5ef571",
   "metadata": {},
   "source": [
    "Sequential groups a linear stack of layers into a tf.keras.Model\n",
    "\n",
    "Dense layers are \"fully connected\" layers\n",
    "\n",
    "Sequential Documentation: https://keras.io/models/sequential/"
   ]
  },
  {
   "cell_type": "code",
   "execution_count": 21,
   "id": "5727fc91",
   "metadata": {},
   "outputs": [
    {
     "name": "stdout",
     "output_type": "stream",
     "text": [
      "Model: \"sequential\"\n",
      "_________________________________________________________________\n",
      " Layer (type)                Output Shape              Param #   \n",
      "=================================================================\n",
      " dense (Dense)               (None, 32)                25120     \n",
      "                                                                 \n",
      " dense_1 (Dense)             (None, 10)                330       \n",
      "                                                                 \n",
      "=================================================================\n",
      "Total params: 25,450\n",
      "Trainable params: 25,450\n",
      "Non-trainable params: 0\n",
      "_________________________________________________________________\n"
     ]
    }
   ],
   "source": [
    "# Define Neural Network model architecture\n",
    "\n",
    "#define dense sequential neural network with 784 inputs, 10 outputs \n",
    "# one hidden layer with 32 neurons and sigmoid activation function\n",
    "\n",
    "#input size\n",
    "image_size = 784 # 28*28\n",
    "\n",
    "#output size\n",
    "num_classes = 10 # ten unique digits\n",
    "\n",
    "#define model type as Sequential. Sequential groups a linear stack of layers\n",
    "#define hidden layer: neurons= 32, activation= sigmoid\n",
    "#define output layer: neurons= 10, activation= softmax\n",
    "\n",
    "model = keras.Sequential()\n",
    "model.add(keras.layers.Dense(units=32, activation='sigmoid', input_shape=(image_size,))) #hidden layer with 32 neurons\n",
    "model.add(keras.layers.Dense(units=num_classes, activation='softmax')) #output layer with 10 neurons\n",
    "\n",
    "\n",
    "model.summary() #print the model architecture"
   ]
  },
  {
   "cell_type": "markdown",
   "id": "f0e98033",
   "metadata": {},
   "source": [
    "The resulting architecture has 25,450 tunable parameters. \n",
    "From the input layer to the hidden layer there are 784*32 = 25,088 weights. \n",
    "\n",
    "The hidden layer has 32 nodes so there are 32 biases. \n",
    "This brings us to 25,088 + 32 = 25,120 parameters.\n",
    "\n",
    "From the hidden layer to the output layer there are 32*10 = 320 weights.\n",
    "Each of the ten nodes adds a single bias bringing us to 25,120 + 320 + 10 = 25,450 total parameters."
   ]
  },
  {
   "cell_type": "markdown",
   "id": "3a1a88bb",
   "metadata": {},
   "source": [
    "## Compile Model"
   ]
  },
  {
   "cell_type": "markdown",
   "id": "a45c16bb",
   "metadata": {},
   "source": [
    "After creating a neural network architecture, the next step is to compile the model before training it on data. \n",
    "\n",
    "The compilation step involves configuring the model with specific settings that are necessary for training. \n",
    "\n",
    "Optimizer: The optimization algorithm used to update the model parameters during training. Common optimizers include SGD (Stochastic Gradient Descent), Adam, RMSprop.\n",
    "\n",
    "Loss function: The quantity that will be minimized during training.\n",
    "The choice of the loss function depends on the nature of the task, such as mean squared error for regression or categorical cross-entropy for classification.\n",
    "\n",
    "Metrics: These are additional metrics to monitor during training and evaluation. Unlike the loss, training will not optimize directly for these metrics. "
   ]
  },
  {
   "cell_type": "code",
   "execution_count": 22,
   "id": "303996e3",
   "metadata": {},
   "outputs": [],
   "source": [
    "#compile the neural network model\n",
    "\n",
    "#Sparse_categorial_entropy is used as there are multiple labels provided as integers.\n",
    "\n",
    "model.compile(optimizer=\"sgd\", \n",
    "              loss='sparse_categorical_crossentropy', \n",
    "              metrics=['accuracy'])\n"
   ]
  },
  {
   "cell_type": "markdown",
   "id": "929e8370",
   "metadata": {},
   "source": [
    "## Train the model"
   ]
  },
  {
   "cell_type": "code",
   "execution_count": 23,
   "id": "f42b8a6b",
   "metadata": {},
   "outputs": [
    {
     "name": "stdout",
     "output_type": "stream",
     "text": [
      "Epoch 1/50\n",
      "400/400 [==============================] - 3s 5ms/step - loss: 2.1103 - accuracy: 0.4073 - val_loss: 1.9253 - val_accuracy: 0.5753\n",
      "Epoch 2/50\n",
      "400/400 [==============================] - 2s 4ms/step - loss: 1.7840 - accuracy: 0.6163 - val_loss: 1.6287 - val_accuracy: 0.6715\n",
      "Epoch 3/50\n",
      "400/400 [==============================] - 1s 4ms/step - loss: 1.5194 - accuracy: 0.6823 - val_loss: 1.3847 - val_accuracy: 0.7352\n",
      "Epoch 4/50\n",
      "400/400 [==============================] - 1s 4ms/step - loss: 1.3069 - accuracy: 0.7370 - val_loss: 1.1924 - val_accuracy: 0.7813\n",
      "Epoch 5/50\n",
      "400/400 [==============================] - 1s 4ms/step - loss: 1.1415 - accuracy: 0.7772 - val_loss: 1.0443 - val_accuracy: 0.8155\n",
      "Epoch 6/50\n",
      "400/400 [==============================] - 1s 3ms/step - loss: 1.0133 - accuracy: 0.8053 - val_loss: 0.9287 - val_accuracy: 0.8327\n",
      "Epoch 7/50\n",
      "400/400 [==============================] - 1s 3ms/step - loss: 0.9127 - accuracy: 0.8246 - val_loss: 0.8384 - val_accuracy: 0.8471\n",
      "Epoch 8/50\n",
      "400/400 [==============================] - 1s 3ms/step - loss: 0.8328 - accuracy: 0.8373 - val_loss: 0.7659 - val_accuracy: 0.8550\n",
      "Epoch 9/50\n",
      "400/400 [==============================] - 1s 4ms/step - loss: 0.7683 - accuracy: 0.8467 - val_loss: 0.7076 - val_accuracy: 0.8618\n",
      "Epoch 10/50\n",
      "400/400 [==============================] - 1s 3ms/step - loss: 0.7156 - accuracy: 0.8536 - val_loss: 0.6598 - val_accuracy: 0.8673\n",
      "Epoch 11/50\n",
      "400/400 [==============================] - 1s 3ms/step - loss: 0.6720 - accuracy: 0.8593 - val_loss: 0.6205 - val_accuracy: 0.8712\n",
      "Epoch 12/50\n",
      "400/400 [==============================] - 1s 3ms/step - loss: 0.6355 - accuracy: 0.8642 - val_loss: 0.5872 - val_accuracy: 0.8745\n",
      "Epoch 13/50\n",
      "400/400 [==============================] - 1s 4ms/step - loss: 0.6045 - accuracy: 0.8676 - val_loss: 0.5590 - val_accuracy: 0.8778\n",
      "Epoch 14/50\n",
      "400/400 [==============================] - 2s 4ms/step - loss: 0.5781 - accuracy: 0.8709 - val_loss: 0.5353 - val_accuracy: 0.8815\n",
      "Epoch 15/50\n",
      "400/400 [==============================] - 2s 5ms/step - loss: 0.5552 - accuracy: 0.8737 - val_loss: 0.5144 - val_accuracy: 0.8839\n",
      "Epoch 16/50\n",
      "400/400 [==============================] - 2s 4ms/step - loss: 0.5352 - accuracy: 0.8766 - val_loss: 0.4964 - val_accuracy: 0.8872\n",
      "Epoch 17/50\n",
      "400/400 [==============================] - 1s 3ms/step - loss: 0.5176 - accuracy: 0.8788 - val_loss: 0.4804 - val_accuracy: 0.8887\n",
      "Epoch 18/50\n",
      "400/400 [==============================] - 1s 3ms/step - loss: 0.5020 - accuracy: 0.8807 - val_loss: 0.4664 - val_accuracy: 0.8905\n",
      "Epoch 19/50\n",
      "400/400 [==============================] - 1s 3ms/step - loss: 0.4881 - accuracy: 0.8828 - val_loss: 0.4538 - val_accuracy: 0.8920\n",
      "Epoch 20/50\n",
      "400/400 [==============================] - 1s 3ms/step - loss: 0.4757 - accuracy: 0.8843 - val_loss: 0.4425 - val_accuracy: 0.8936\n",
      "Epoch 21/50\n",
      "400/400 [==============================] - 1s 3ms/step - loss: 0.4644 - accuracy: 0.8858 - val_loss: 0.4323 - val_accuracy: 0.8938\n",
      "Epoch 22/50\n",
      "400/400 [==============================] - 1s 3ms/step - loss: 0.4542 - accuracy: 0.8872 - val_loss: 0.4229 - val_accuracy: 0.8959\n",
      "Epoch 23/50\n",
      "400/400 [==============================] - 1s 3ms/step - loss: 0.4448 - accuracy: 0.8885 - val_loss: 0.4145 - val_accuracy: 0.8964\n",
      "Epoch 24/50\n",
      "400/400 [==============================] - 2s 4ms/step - loss: 0.4363 - accuracy: 0.8898 - val_loss: 0.4067 - val_accuracy: 0.8982\n",
      "Epoch 25/50\n",
      "400/400 [==============================] - 2s 5ms/step - loss: 0.4284 - accuracy: 0.8909 - val_loss: 0.3996 - val_accuracy: 0.8986\n",
      "Epoch 26/50\n",
      "400/400 [==============================] - 2s 4ms/step - loss: 0.4211 - accuracy: 0.8918 - val_loss: 0.3930 - val_accuracy: 0.8996\n",
      "Epoch 27/50\n",
      "400/400 [==============================] - 1s 4ms/step - loss: 0.4143 - accuracy: 0.8928 - val_loss: 0.3870 - val_accuracy: 0.9007\n",
      "Epoch 28/50\n",
      "400/400 [==============================] - 1s 4ms/step - loss: 0.4080 - accuracy: 0.8938 - val_loss: 0.3813 - val_accuracy: 0.9013\n",
      "Epoch 29/50\n",
      "400/400 [==============================] - 1s 4ms/step - loss: 0.4022 - accuracy: 0.8949 - val_loss: 0.3760 - val_accuracy: 0.9023\n",
      "Epoch 30/50\n",
      "400/400 [==============================] - 2s 4ms/step - loss: 0.3967 - accuracy: 0.8952 - val_loss: 0.3710 - val_accuracy: 0.9030\n",
      "Epoch 31/50\n",
      "400/400 [==============================] - 1s 4ms/step - loss: 0.3915 - accuracy: 0.8963 - val_loss: 0.3663 - val_accuracy: 0.9038\n",
      "Epoch 32/50\n",
      "400/400 [==============================] - 1s 3ms/step - loss: 0.3866 - accuracy: 0.8969 - val_loss: 0.3620 - val_accuracy: 0.9045\n",
      "Epoch 33/50\n",
      "400/400 [==============================] - 1s 3ms/step - loss: 0.3820 - accuracy: 0.8978 - val_loss: 0.3577 - val_accuracy: 0.9049\n",
      "Epoch 34/50\n",
      "400/400 [==============================] - 1s 3ms/step - loss: 0.3777 - accuracy: 0.8986 - val_loss: 0.3538 - val_accuracy: 0.9060\n",
      "Epoch 35/50\n",
      "400/400 [==============================] - 2s 4ms/step - loss: 0.3736 - accuracy: 0.8996 - val_loss: 0.3502 - val_accuracy: 0.9062\n",
      "Epoch 36/50\n",
      "400/400 [==============================] - 2s 5ms/step - loss: 0.3697 - accuracy: 0.9002 - val_loss: 0.3466 - val_accuracy: 0.9070\n",
      "Epoch 37/50\n",
      "400/400 [==============================] - 2s 5ms/step - loss: 0.3659 - accuracy: 0.9011 - val_loss: 0.3433 - val_accuracy: 0.9079\n",
      "Epoch 38/50\n",
      "400/400 [==============================] - 2s 4ms/step - loss: 0.3624 - accuracy: 0.9016 - val_loss: 0.3401 - val_accuracy: 0.9088\n",
      "Epoch 39/50\n",
      "400/400 [==============================] - 1s 4ms/step - loss: 0.3590 - accuracy: 0.9025 - val_loss: 0.3371 - val_accuracy: 0.9092\n",
      "Epoch 40/50\n",
      "400/400 [==============================] - 2s 4ms/step - loss: 0.3558 - accuracy: 0.9029 - val_loss: 0.3342 - val_accuracy: 0.9097\n",
      "Epoch 41/50\n",
      "400/400 [==============================] - 1s 3ms/step - loss: 0.3526 - accuracy: 0.9040 - val_loss: 0.3314 - val_accuracy: 0.9100\n",
      "Epoch 42/50\n",
      "400/400 [==============================] - 1s 4ms/step - loss: 0.3497 - accuracy: 0.9042 - val_loss: 0.3287 - val_accuracy: 0.9107\n",
      "Epoch 43/50\n",
      "400/400 [==============================] - 1s 4ms/step - loss: 0.3468 - accuracy: 0.9051 - val_loss: 0.3262 - val_accuracy: 0.9111\n",
      "Epoch 44/50\n",
      "400/400 [==============================] - 1s 4ms/step - loss: 0.3440 - accuracy: 0.9055 - val_loss: 0.3237 - val_accuracy: 0.9118\n",
      "Epoch 45/50\n",
      "400/400 [==============================] - 2s 4ms/step - loss: 0.3414 - accuracy: 0.9063 - val_loss: 0.3213 - val_accuracy: 0.9118\n",
      "Epoch 46/50\n",
      "400/400 [==============================] - 2s 4ms/step - loss: 0.3388 - accuracy: 0.9068 - val_loss: 0.3190 - val_accuracy: 0.9121\n",
      "Epoch 47/50\n",
      "400/400 [==============================] - 2s 4ms/step - loss: 0.3363 - accuracy: 0.9076 - val_loss: 0.3169 - val_accuracy: 0.9129\n",
      "Epoch 48/50\n",
      "400/400 [==============================] - 2s 4ms/step - loss: 0.3339 - accuracy: 0.9079 - val_loss: 0.3147 - val_accuracy: 0.9132\n",
      "Epoch 49/50\n",
      "400/400 [==============================] - 1s 4ms/step - loss: 0.3316 - accuracy: 0.9083 - val_loss: 0.3127 - val_accuracy: 0.9130\n",
      "Epoch 50/50\n",
      "400/400 [==============================] - 1s 3ms/step - loss: 0.3294 - accuracy: 0.9087 - val_loss: 0.3107 - val_accuracy: 0.9134\n"
     ]
    }
   ],
   "source": [
    "#track history of training the model\n",
    "\n",
    "#epochs=50 means the model will iterate over the entire training dataset 50 times.\n",
    "\n",
    "history= model.fit(x_train, y_train, batch_size=120, epochs=50, validation_split=0.2)\n"
   ]
  },
  {
   "cell_type": "markdown",
   "id": "c1843076",
   "metadata": {},
   "source": [
    "## Model Evaluation"
   ]
  },
  {
   "cell_type": "code",
   "execution_count": 24,
   "id": "22571cfb",
   "metadata": {},
   "outputs": [
    {
     "data": {
      "image/png": "[encoded data removed]",
      "text/plain": [
       "<Figure size 640x480 with 1 Axes>"
      ]
     },
     "metadata": {},
     "output_type": "display_data"
    }
   ],
   "source": [
    "# summarize history for accuracy\n",
    "plt.plot(history.history['accuracy'])\n",
    "plt.plot(history.history['val_accuracy'])\n",
    "plt.title('Model Accuracy')\n",
    "plt.ylabel('accuracy')\n",
    "plt.xlabel('epoch')\n",
    "plt.legend(['train', 'test'])\n",
    "plt.show()"
   ]
  },
  {
   "cell_type": "code",
   "execution_count": 25,
   "id": "03f7f6a9",
   "metadata": {},
   "outputs": [
    {
     "data": {
      "image/png": "[encoded data removed]",
      "text/plain": [
       "<Figure size 640x480 with 1 Axes>"
      ]
     },
     "metadata": {},
     "output_type": "display_data"
    }
   ],
   "source": [
    "# summarize history for loss\n",
    "plt.plot(history.history['loss'])\n",
    "plt.plot(history.history['val_loss'])\n",
    "plt.title('Model Loss')\n",
    "plt.ylabel('loss')\n",
    "plt.xlabel('epoch')\n",
    "plt.legend(['train', 'test'])\n",
    "plt.show()"
   ]
  },
  {
   "cell_type": "code",
   "execution_count": 26,
   "id": "04f6e065",
   "metadata": {},
   "outputs": [
    {
     "name": "stdout",
     "output_type": "stream",
     "text": [
      "313/313 [==============================] - 1s 3ms/step - loss: 0.3146 - accuracy: 0.9132\n"
     ]
    },
    {
     "data": {
      "text/plain": [
       "[0.3146005868911743, 0.9132000207901001]"
      ]
     },
     "execution_count": 26,
     "metadata": {},
     "output_type": "execute_result"
    }
   ],
   "source": [
    "#Evaluate Model on test data\n",
    "model.evaluate(x_test, y_test)"
   ]
  },
  {
   "cell_type": "markdown",
   "id": "e35c4199",
   "metadata": {},
   "source": [
    "# Predictions"
   ]
  },
  {
   "cell_type": "code",
   "execution_count": 27,
   "id": "a484edde",
   "metadata": {},
   "outputs": [
    {
     "name": "stdout",
     "output_type": "stream",
     "text": [
      "313/313 [==============================] - 1s 2ms/step\n"
     ]
    }
   ],
   "source": [
    "#predictions\n",
    "\n",
    "y_pred = model.predict(x_test)"
   ]
  },
  {
   "cell_type": "code",
   "execution_count": 28,
   "id": "a704e875",
   "metadata": {},
   "outputs": [
    {
     "data": {
      "text/plain": [
       "<matplotlib.image.AxesImage at 0x191f03818b0>"
      ]
     },
     "execution_count": 28,
     "metadata": {},
     "output_type": "execute_result"
    },
    {
     "data": {
      "image/png": "[encoded data removed]",
      "text/plain": [
       "<Figure size 480x480 with 1 Axes>"
      ]
     },
     "metadata": {},
     "output_type": "display_data"
    }
   ],
   "source": [
    "#lets predict the first data on test set\n",
    "\n",
    "#reload the data that has not been flattened\n",
    "(x_train, y_train), (x_test, y_test) = keras.datasets.mnist.load_data() \n",
    "plt.matshow(x_test[0])"
   ]
  },
  {
   "cell_type": "code",
   "execution_count": 29,
   "id": "ea9ffbc1",
   "metadata": {},
   "outputs": [
    {
     "data": {
      "text/plain": [
       "array([3.2993327e-04, 5.1867955e-05, 2.9487381e-04, 2.4323254e-03,\n",
       "       1.1704274e-04, 1.3904659e-04, 7.6376209e-06, 9.8991978e-01,\n",
       "       1.5989167e-04, 6.5475702e-03], dtype=float32)"
      ]
     },
     "execution_count": 29,
     "metadata": {},
     "output_type": "execute_result"
    }
   ],
   "source": [
    "#print the predictions for the first data on test set\n",
    "#we get 10 probability values\n",
    "\n",
    "y_pred[0]"
   ]
  },
  {
   "cell_type": "code",
   "execution_count": 30,
   "id": "d6b974d4",
   "metadata": {},
   "outputs": [
    {
     "data": {
      "text/plain": [
       "7"
      ]
     },
     "execution_count": 30,
     "metadata": {},
     "output_type": "execute_result"
    }
   ],
   "source": [
    "#argmax function finds the argument that gives the maximum value from a target function.\n",
    "\n",
    "np.argmax(y_pred[0])"
   ]
  },
  {
   "cell_type": "markdown",
   "id": "51da5732",
   "metadata": {},
   "source": [
    "## Confusion Matrix"
   ]
  },
  {
   "cell_type": "code",
   "execution_count": 31,
   "id": "7d8733b4",
   "metadata": {},
   "outputs": [
    {
     "data": {
      "text/plain": [
       "<tf.Tensor: shape=(10, 10), dtype=int32, numpy=\n",
       "array([[ 959,    0,    3,    2,    0,    5,    8,    1,    2,    0],\n",
       "       [   0, 1111,    2,    2,    0,    1,    4,    2,   13,    0],\n",
       "       [  13,    6,  907,   14,   16,    1,   18,   15,   35,    7],\n",
       "       [   6,    1,   22,  905,    0,   33,    2,   15,   18,    8],\n",
       "       [   1,    4,    6,    1,  917,    1,   11,    2,    5,   34],\n",
       "       [  12,    2,    5,   49,    6,  748,   18,    9,   35,    8],\n",
       "       [  16,    3,    5,    0,   16,   14,  900,    1,    3,    0],\n",
       "       [   4,   17,   24,    7,    9,    0,    0,  941,    3,   23],\n",
       "       [   6,   10,   10,   24,   10,   25,   11,   13,  855,   10],\n",
       "       [  14,    7,    5,   11,   44,    8,    0,   25,    6,  889]])>"
      ]
     },
     "execution_count": 31,
     "metadata": {},
     "output_type": "execute_result"
    }
   ],
   "source": [
    "#confusion matrix\n",
    "\n",
    "y_pred_labels = [np.argmax(i) for i in y_pred]\n",
    "\n",
    "cm = tf.math.confusion_matrix(labels=y_test, predictions=y_pred_labels)\n",
    "cm"
   ]
  },
  {
   "cell_type": "code",
   "execution_count": 32,
   "id": "94a35466",
   "metadata": {},
   "outputs": [
    {
     "data": {
      "text/plain": [
       "Text(95.72222222222221, 0.5, 'Truth')"
      ]
     },
     "execution_count": 32,
     "metadata": {},
     "output_type": "execute_result"
    },
    {
     "data": {
      "image/png": "[encoded data removed]",
      "text/plain": [
       "<Figure size 1000x700 with 2 Axes>"
      ]
     },
     "metadata": {},
     "output_type": "display_data"
    }
   ],
   "source": [
    "#plot confusion matrix with seaborn heatmap\n",
    "\n",
    "plt.figure(figsize = (10,7))\n",
    "sn.heatmap(cm, annot=True, fmt='d')\n",
    "plt.xlabel('Predicted')\n",
    "plt.ylabel('Truth')"
   ]
  }
 ],
 "metadata": {
  "kernelspec": {
   "display_name": "Python 3 (ipykernel)",
   "language": "python",
   "name": "python3"
  },
  "language_info": {
   "codemirror_mode": {
    "name": "ipython",
    "version": 3
   },
   "file_extension": ".py",
   "mimetype": "text/x-python",
   "name": "python",
   "nbconvert_exporter": "python",
   "pygments_lexer": "ipython3",
   "version": "3.9.13"
  }
 },
 "nbformat": 4,
 "nbformat_minor": 5
}
